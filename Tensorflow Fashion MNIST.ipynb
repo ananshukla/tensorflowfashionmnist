{
 "cells": [
  {
   "cell_type": "code",
   "execution_count": 1,
   "metadata": {},
   "outputs": [],
   "source": [
    "import tensorflow as tf\n",
    "from tensorflow.keras import datasets, layers, models"
   ]
  },
  {
   "cell_type": "code",
   "execution_count": 2,
   "metadata": {},
   "outputs": [
    {
     "name": "stderr",
     "output_type": "stream",
     "text": [
      "Using TensorFlow backend.\n"
     ]
    },
    {
     "name": "stdout",
     "output_type": "stream",
     "text": [
      "Train (60000, 28, 28) (60000,)\n",
      "Test (10000, 28, 28) (10000,)\n"
     ]
    }
   ],
   "source": [
    "from keras.datasets.fashion_mnist import load_data\n",
    "# load the images into memory\n",
    "(trainX, trainy), (testX, testy) = load_data()\n",
    "# summarize the shape of the dataset\n",
    "print('Train', trainX.shape, trainy.shape)\n",
    "print('Test', testX.shape, testy.shape)"
   ]
  },
  {
   "cell_type": "code",
   "execution_count": 3,
   "metadata": {},
   "outputs": [],
   "source": [
    "output=['T-Shirt','Trousers','Pullover','Dress','Coat','Sandal','Shirt','Sneaker','Bag','Ankle Boot']"
   ]
  },
  {
   "cell_type": "code",
   "execution_count": 4,
   "metadata": {},
   "outputs": [],
   "source": [
    "trainX,testX = trainX / 255.0, testX / 255.0"
   ]
  },
  {
   "cell_type": "code",
   "execution_count": 5,
   "metadata": {},
   "outputs": [],
   "source": [
    "import matplotlib.pyplot as plt"
   ]
  },
  {
   "cell_type": "code",
   "execution_count": 6,
   "metadata": {},
   "outputs": [
    {
     "name": "stdout",
     "output_type": "stream",
     "text": [
      "8\n"
     ]
    },
    {
     "data": {
      "image/png": "[encoded data removed]",
      "text/plain": [
       "<Figure size 432x288 with 1 Axes>"
      ]
     },
     "metadata": {
      "needs_background": "light"
     },
     "output_type": "display_data"
    }
   ],
   "source": [
    "plt.imshow(trainX[100], cmap='gray_r')\n",
    "print(trainy[100])"
   ]
  },
  {
   "cell_type": "code",
   "execution_count": 7,
   "metadata": {},
   "outputs": [],
   "source": [
    "model = tf.keras.models.Sequential([\n",
    "  tf.keras.layers.Flatten(input_shape=(28, 28)),\n",
    "  tf.keras.layers.Dense(128, activation='relu'),\n",
    "  tf.keras.layers.Dropout(0.2),\n",
    "  tf.keras.layers.Dense(10, activation='softmax')\n",
    "])"
   ]
  },
  {
   "cell_type": "code",
   "execution_count": 8,
   "metadata": {},
   "outputs": [],
   "source": [
    "model.compile(optimizer='adam',\n",
    "              loss='sparse_categorical_crossentropy',\n",
    "              metrics=['accuracy'])"
   ]
  },
  {
   "cell_type": "code",
   "execution_count": 13,
   "metadata": {},
   "outputs": [
    {
     "name": "stdout",
     "output_type": "stream",
     "text": [
      "Train on 60000 samples\n",
      "Epoch 1/14\n",
      "60000/60000 [==============================] - 3s 47us/sample - loss: 0.2795 - accuracy: 0.8955\n",
      "Epoch 2/14\n",
      "60000/60000 [==============================] - 2s 39us/sample - loss: 0.2722 - accuracy: 0.8969\n",
      "Epoch 3/14\n",
      "60000/60000 [==============================] - 2s 39us/sample - loss: 0.2702 - accuracy: 0.8974\n",
      "Epoch 4/14\n",
      "60000/60000 [==============================] - 2s 39us/sample - loss: 0.2639 - accuracy: 0.8999\n",
      "Epoch 5/14\n",
      "60000/60000 [==============================] - 2s 39us/sample - loss: 0.2563 - accuracy: 0.9026\n",
      "Epoch 6/14\n",
      "60000/60000 [==============================] - 3s 42us/sample - loss: 0.2539 - accuracy: 0.9050\n",
      "Epoch 7/14\n",
      "60000/60000 [==============================] - 2s 41us/sample - loss: 0.2481 - accuracy: 0.9054\n",
      "Epoch 8/14\n",
      "60000/60000 [==============================] - 2s 40us/sample - loss: 0.2444 - accuracy: 0.9073\n",
      "Epoch 9/14\n",
      "60000/60000 [==============================] - 2s 37us/sample - loss: 0.2413 - accuracy: 0.9083\n",
      "Epoch 10/14\n",
      "60000/60000 [==============================] - 2s 39us/sample - loss: 0.2384 - accuracy: 0.9090\n",
      "Epoch 11/14\n",
      "60000/60000 [==============================] - 2s 40us/sample - loss: 0.2350 - accuracy: 0.9104\n",
      "Epoch 12/14\n",
      "60000/60000 [==============================] - 3s 45us/sample - loss: 0.2311 - accuracy: 0.9122\n",
      "Epoch 13/14\n",
      "60000/60000 [==============================] - 2s 41us/sample - loss: 0.2298 - accuracy: 0.9137s - loss: 0.2306 - accura\n",
      "Epoch 14/14\n",
      "60000/60000 [==============================] - 2s 40us/sample - loss: 0.2266 - accuracy: 0.9139s - loss: 0.223\n"
     ]
    },
    {
     "data": {
      "text/plain": [
       "<tensorflow.python.keras.callbacks.History at 0x23969b934a8>"
      ]
     },
     "execution_count": 13,
     "metadata": {},
     "output_type": "execute_result"
    }
   ],
   "source": [
    "model.fit(trainX, trainy, epochs=14)"
   ]
  },
  {
   "cell_type": "code",
   "execution_count": 10,
   "metadata": {},
   "outputs": [
    {
     "name": "stdout",
     "output_type": "stream",
     "text": [
      "10000/1 - 0s - loss: 0.3174 - accuracy: 0.8791\n"
     ]
    },
    {
     "data": {
      "text/plain": [
       "[0.3477580624103546, 0.8791]"
      ]
     },
     "execution_count": 10,
     "metadata": {},
     "output_type": "execute_result"
    }
   ],
   "source": [
    "model.evaluate(testX,testy, verbose=2)"
   ]
  },
  {
   "cell_type": "code",
   "execution_count": 11,
   "metadata": {},
   "outputs": [
    {
     "data": {
      "image/png": "[encoded data removed]",
      "text/plain": [
       "<Figure size 432x288 with 1 Axes>"
      ]
     },
     "metadata": {
      "needs_background": "light"
     },
     "output_type": "display_data"
    }
   ],
   "source": [
    "plt.imshow(trainX[100].reshape(28, 28),cmap='Greys')\n",
    "pred = model.predict(trainX[100].reshape(1,28,28))"
   ]
  },
  {
   "cell_type": "code",
   "execution_count": 12,
   "metadata": {},
   "outputs": [
    {
     "name": "stdout",
     "output_type": "stream",
     "text": [
      "Bag\n"
     ]
    }
   ],
   "source": [
    "print(output[pred.argmax()])"
   ]
  },
  {
   "cell_type": "code",
   "execution_count": null,
   "metadata": {},
   "outputs": [],
   "source": []
  }
 ],
 "metadata": {
  "kernelspec": {
   "display_name": "Python 3",
   "language": "python",
   "name": "python3"
  },
  "language_info": {
   "codemirror_mode": {
    "name": "ipython",
    "version": 3
   },
   "file_extension": ".py",
   "mimetype": "text/x-python",
   "name": "python",
   "nbconvert_exporter": "python",
   "pygments_lexer": "ipython3",
   "version": "3.7.3"
  }
 },
 "nbformat": 4,
 "nbformat_minor": 2
}
